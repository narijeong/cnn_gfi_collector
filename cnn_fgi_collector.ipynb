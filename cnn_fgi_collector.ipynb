{
 "cells": [
  {
   "cell_type": "code",
   "execution_count": null,
   "metadata": {},
   "outputs": [],
   "source": [
    "# 1. Beautiful soup to scrap the data from cnn money site\n",
    "# 2. Collect fgi & time and update the file in s3"
   ]
  },
  {
   "cell_type": "code",
   "execution_count": 107,
   "metadata": {},
   "outputs": [
    {
     "name": "stdout",
     "output_type": "stream",
     "text": [
      "91\n",
      "2020-11-25 17:33:00\n",
      "2020-11-25\n",
      "17:33\n"
     ]
    }
   ],
   "source": [
    "import json\n",
    "from bs4 import BeautifulSoup as bs\n",
    "import requests\n",
    "import datetime\n",
    "import boto3\n",
    "import csv\n",
    "\n",
    "def lambda_handler(event, context):\n",
    "    bucketname = 'cnn-gfi-bucket'\n",
    "    bucket_file = 'cnn_fgi.csv'\n",
    "    local_file = '/tmp/cnn_fgi.csv'\n",
    "    s3 = boto3.resource('s3')\n",
    "    bucket = s3.Bucket(bucketname)\n",
    "    bucket.download_file(bucket_file, local_file)\n",
    "\n",
    "    \n",
    "    url = \"https://money.cnn.com/data/fear-and-greed\"\n",
    "    res = requests.get(url)\n",
    "    # parser = 'lxml'\n",
    "    soup = bs(res.text, 'html.parser')\n",
    "    fgi = soup.select(\"#needleChart > ul > li:nth-of-type(1)\")[0].text.split()[4]\n",
    "    print(\"fgi\", fgi)\n",
    "\n",
    "    dt = soup.select(\"#needleAsOfDate\")[0].text.split(\"Last updated\")[1].split()\n",
    "    month = dt[0]\n",
    "    day = int(dt[1])    \n",
    "    time = dt[3].split(\":\")\n",
    "    hour = int(time[0])\n",
    "    minute = int(time[1][:2])\n",
    "    pm = time[1][2:] == \"pm\"\n",
    "\n",
    "    hour+=12 if pm else hour\n",
    "\n",
    "    # convert month string to number (ex: \"Jan\" -> 1)\n",
    "    datetime_object = datetime.datetime.strptime(month, \"%b\")\n",
    "    \n",
    "    month_number = datetime_object.month\n",
    "\n",
    "    x = datetime.datetime(datetime.datetime.now().year, month_number, day, hour, minute)\n",
    "    date = x.date()\n",
    "    time = x.time().isoformat(timespec='minutes')\n",
    "    print('date', date)\n",
    "    print('time', time)\n",
    "    \n",
    "    # write new gfi to local csv file \n",
    "    with open(local_file, mode='a') as cnn_fgi:\n",
    "        writer = csv.writer(cnn_fgi, delimiter=',', quotechar='\"')\n",
    "        writer.writerow([date, time, fgi])\n",
    "    \n",
    "    # upload file from tmp to s3 key\n",
    "    bucket.upload_file(local_file, bucket_file)\n",
    "    \n",
    "    \n",
    "    return {\n",
    "        'statusCode': 200,\n",
    "        'body': json.dumps('Hello from Lambda!')\n",
    "    }\n"
   ]
  },
  {
   "cell_type": "code",
   "execution_count": null,
   "metadata": {},
   "outputs": [],
   "source": []
  }
 ],
 "metadata": {
  "kernelspec": {
   "display_name": "Python 3",
   "language": "python",
   "name": "python3"
  },
  "language_info": {
   "codemirror_mode": {
    "name": "ipython",
    "version": 3
   },
   "file_extension": ".py",
   "mimetype": "text/x-python",
   "name": "python",
   "nbconvert_exporter": "python",
   "pygments_lexer": "ipython3",
   "version": "3.7.6"
  }
 },
 "nbformat": 4,
 "nbformat_minor": 4
}
